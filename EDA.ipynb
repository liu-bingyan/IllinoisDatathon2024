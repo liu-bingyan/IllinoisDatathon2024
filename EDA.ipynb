{
 "cells": [
  {
   "cell_type": "code",
   "execution_count": 179,
   "metadata": {},
   "outputs": [],
   "source": [
    "import glob\n",
    "import pandas as pd\n",
    "\n",
    "folder_path = r'C:\\Users\\bingy\\Box\\Data Set for Competition'\n",
    "def load_dataframes(self, folder_path):\n",
    "        csv_files = glob.glob(folder_path + '/*.csv')\n",
    "        dataframes = []\n",
    "        for file in csv_files:\n",
    "            df = pd.read_csv(file)\n",
    "            dataframes.append(df)\n",
    "        return dataframes\n",
    "\n",
    "class EDA():\n",
    "    def __init__(self, dataframes):\n",
    "        self.dataframes = dataframes    \n",
    "    ### some simple EDA functions\n",
    "    def print_types(self):\n",
    "        for df in self.dataframes:\n",
    "            print(df.dtypes)\n",
    "    def print_shape(self):\n",
    "        for df in self.dataframes:\n",
    "            print(df.shape)\n",
    "\n",
    "eda = EDA(load_dataframes(folder_path))"
   ]
  },
  {
   "cell_type": "code",
   "execution_count": 139,
   "metadata": {},
   "outputs": [
    {
     "data": {
      "text/html": [
       "<div>\n",
       "<style scoped>\n",
       "    .dataframe tbody tr th:only-of-type {\n",
       "        vertical-align: middle;\n",
       "    }\n",
       "\n",
       "    .dataframe tbody tr th {\n",
       "        vertical-align: top;\n",
       "    }\n",
       "\n",
       "    .dataframe thead th {\n",
       "        text-align: right;\n",
       "    }\n",
       "</style>\n",
       "<table border=\"1\" class=\"dataframe\">\n",
       "  <thead>\n",
       "    <tr style=\"text-align: right;\">\n",
       "      <th></th>\n",
       "      <th>no_of_accounts_with_syf_13_march</th>\n",
       "      <th>no_of_accounts_with_syf_18_march</th>\n",
       "    </tr>\n",
       "  </thead>\n",
       "  <tbody>\n",
       "    <tr>\n",
       "      <th>0</th>\n",
       "      <td>1.0</td>\n",
       "      <td>1.0</td>\n",
       "    </tr>\n",
       "    <tr>\n",
       "      <th>1</th>\n",
       "      <td>2.0</td>\n",
       "      <td>2.0</td>\n",
       "    </tr>\n",
       "    <tr>\n",
       "      <th>2</th>\n",
       "      <td>12.0</td>\n",
       "      <td>12.0</td>\n",
       "    </tr>\n",
       "    <tr>\n",
       "      <th>3</th>\n",
       "      <td>2.0</td>\n",
       "      <td>2.0</td>\n",
       "    </tr>\n",
       "    <tr>\n",
       "      <th>4</th>\n",
       "      <td>6.0</td>\n",
       "      <td>6.0</td>\n",
       "    </tr>\n",
       "    <tr>\n",
       "      <th>...</th>\n",
       "      <td>...</td>\n",
       "      <td>...</td>\n",
       "    </tr>\n",
       "    <tr>\n",
       "      <th>904628</th>\n",
       "      <td>6.0</td>\n",
       "      <td>6.0</td>\n",
       "    </tr>\n",
       "    <tr>\n",
       "      <th>904629</th>\n",
       "      <td>3.0</td>\n",
       "      <td>3.0</td>\n",
       "    </tr>\n",
       "    <tr>\n",
       "      <th>904630</th>\n",
       "      <td>2.0</td>\n",
       "      <td>2.0</td>\n",
       "    </tr>\n",
       "    <tr>\n",
       "      <th>904631</th>\n",
       "      <td>5.0</td>\n",
       "      <td>5.0</td>\n",
       "    </tr>\n",
       "    <tr>\n",
       "      <th>904632</th>\n",
       "      <td>5.0</td>\n",
       "      <td>5.0</td>\n",
       "    </tr>\n",
       "  </tbody>\n",
       "</table>\n",
       "<p>904633 rows × 2 columns</p>\n",
       "</div>"
      ],
      "text/plain": [
       "        no_of_accounts_with_syf_13_march  no_of_accounts_with_syf_18_march\n",
       "0                                    1.0                               1.0\n",
       "1                                    2.0                               2.0\n",
       "2                                   12.0                              12.0\n",
       "3                                    2.0                               2.0\n",
       "4                                    6.0                               6.0\n",
       "...                                  ...                               ...\n",
       "904628                               6.0                               6.0\n",
       "904629                               3.0                               3.0\n",
       "904630                               2.0                               2.0\n",
       "904631                               5.0                               5.0\n",
       "904632                               5.0                               5.0\n",
       "\n",
       "[904633 rows x 2 columns]"
      ]
     },
     "execution_count": 139,
     "metadata": {},
     "output_type": "execute_result"
    }
   ],
   "source": [
    "df[[\"no_of_accounts_with_syf_13_march\",\"no_of_accounts_with_syf_18_march\"]]"
   ]
  },
  {
   "cell_type": "code",
   "execution_count": 64,
   "metadata": {},
   "outputs": [
    {
     "name": "stdout",
     "output_type": "stream",
     "text": [
      "reason\n",
      "AA     54.066751\n",
      "AP     28.679245\n",
      "AT     87.238955\n",
      "AU     57.142857\n",
      "BA     76.413872\n",
      "         ...    \n",
      "me      8.914729\n",
      "mm    100.000000\n",
      "mn     33.504625\n",
      "mp     34.456046\n",
      "wa      8.028967\n",
      "Name: proportion, Length: 63, dtype: float64\n"
     ]
    },
    {
     "data": {
      "text/html": [
       "<div>\n",
       "<style scoped>\n",
       "    .dataframe tbody tr th:only-of-type {\n",
       "        vertical-align: middle;\n",
       "    }\n",
       "\n",
       "    .dataframe tbody tr th {\n",
       "        vertical-align: top;\n",
       "    }\n",
       "\n",
       "    .dataframe thead th {\n",
       "        text-align: right;\n",
       "    }\n",
       "</style>\n",
       "<table border=\"1\" class=\"dataframe\">\n",
       "  <thead>\n",
       "    <tr style=\"text-align: right;\">\n",
       "      <th></th>\n",
       "      <th>reason</th>\n",
       "      <th>percentage</th>\n",
       "      <th>IVR Call Reason for IVR Call Reporting</th>\n",
       "    </tr>\n",
       "  </thead>\n",
       "  <tbody>\n",
       "    <tr>\n",
       "      <th>0</th>\n",
       "      <td>PP</td>\n",
       "      <td>39.197995</td>\n",
       "      <td>PBP Predictive</td>\n",
       "    </tr>\n",
       "    <tr>\n",
       "      <th>1</th>\n",
       "      <td>BA</td>\n",
       "      <td>34.027611</td>\n",
       "      <td>Account Summary</td>\n",
       "    </tr>\n",
       "    <tr>\n",
       "      <th>2</th>\n",
       "      <td>PT</td>\n",
       "      <td>12.404146</td>\n",
       "      <td>PBP Request</td>\n",
       "    </tr>\n",
       "    <tr>\n",
       "      <th>3</th>\n",
       "      <td>AT</td>\n",
       "      <td>4.261065</td>\n",
       "      <td>Account transactions</td>\n",
       "    </tr>\n",
       "    <tr>\n",
       "      <th>4</th>\n",
       "      <td>CT</td>\n",
       "      <td>1.229228</td>\n",
       "      <td>CIT Change in Terms</td>\n",
       "    </tr>\n",
       "    <tr>\n",
       "      <th>5</th>\n",
       "      <td>AA</td>\n",
       "      <td>1.129408</td>\n",
       "      <td>Activation</td>\n",
       "    </tr>\n",
       "    <tr>\n",
       "      <th>6</th>\n",
       "      <td>FD</td>\n",
       "      <td>0.867424</td>\n",
       "      <td>Fraud detect</td>\n",
       "    </tr>\n",
       "    <tr>\n",
       "      <th>7</th>\n",
       "      <td>LS</td>\n",
       "      <td>0.733004</td>\n",
       "      <td>Report lost stolen</td>\n",
       "    </tr>\n",
       "    <tr>\n",
       "      <th>8</th>\n",
       "      <td>wa</td>\n",
       "      <td>0.702163</td>\n",
       "      <td>Request waiver</td>\n",
       "    </tr>\n",
       "    <tr>\n",
       "      <th>9</th>\n",
       "      <td>IC</td>\n",
       "      <td>0.395520</td>\n",
       "      <td>Credit increase</td>\n",
       "    </tr>\n",
       "    <tr>\n",
       "      <th>10</th>\n",
       "      <td>IA</td>\n",
       "      <td>0.388113</td>\n",
       "      <td>Identification and authentication</td>\n",
       "    </tr>\n",
       "    <tr>\n",
       "      <th>11</th>\n",
       "      <td>AP</td>\n",
       "      <td>0.351524</td>\n",
       "      <td>Address phone change</td>\n",
       "    </tr>\n",
       "    <tr>\n",
       "      <th>12</th>\n",
       "      <td>mp</td>\n",
       "      <td>0.328199</td>\n",
       "      <td>menu payment</td>\n",
       "    </tr>\n",
       "    <tr>\n",
       "      <th>13</th>\n",
       "      <td>DP</td>\n",
       "      <td>0.323446</td>\n",
       "      <td>Disputes</td>\n",
       "    </tr>\n",
       "    <tr>\n",
       "      <th>14</th>\n",
       "      <td>FM</td>\n",
       "      <td>0.311839</td>\n",
       "      <td>manage fraud - L/S with fraud</td>\n",
       "    </tr>\n",
       "    <tr>\n",
       "      <th>15</th>\n",
       "      <td>PI</td>\n",
       "      <td>0.250378</td>\n",
       "      <td>Proactive Income</td>\n",
       "    </tr>\n",
       "    <tr>\n",
       "      <th>16</th>\n",
       "      <td>WA</td>\n",
       "      <td>0.239766</td>\n",
       "      <td>Late fee waiver</td>\n",
       "    </tr>\n",
       "    <tr>\n",
       "      <th>17</th>\n",
       "      <td>CA</td>\n",
       "      <td>0.232802</td>\n",
       "      <td>Close account</td>\n",
       "    </tr>\n",
       "    <tr>\n",
       "      <th>18</th>\n",
       "      <td>RC</td>\n",
       "      <td>0.231143</td>\n",
       "      <td>Replacement card</td>\n",
       "    </tr>\n",
       "    <tr>\n",
       "      <th>19</th>\n",
       "      <td>CB</td>\n",
       "      <td>0.193228</td>\n",
       "      <td>Credit balance refund</td>\n",
       "    </tr>\n",
       "    <tr>\n",
       "      <th>20</th>\n",
       "      <td>SP</td>\n",
       "      <td>0.190132</td>\n",
       "      <td>Summary payment</td>\n",
       "    </tr>\n",
       "    <tr>\n",
       "      <th>21</th>\n",
       "      <td>iR</td>\n",
       "      <td>0.187258</td>\n",
       "      <td>Rewards</td>\n",
       "    </tr>\n",
       "    <tr>\n",
       "      <th>22</th>\n",
       "      <td>RP</td>\n",
       "      <td>0.165371</td>\n",
       "      <td>PIN Request</td>\n",
       "    </tr>\n",
       "    <tr>\n",
       "      <th>23</th>\n",
       "      <td>RV</td>\n",
       "      <td>0.159291</td>\n",
       "      <td>Recovery</td>\n",
       "    </tr>\n",
       "    <tr>\n",
       "      <th>24</th>\n",
       "      <td>eL</td>\n",
       "      <td>0.129445</td>\n",
       "      <td>eService Login</td>\n",
       "    </tr>\n",
       "    <tr>\n",
       "      <th>25</th>\n",
       "      <td>iL</td>\n",
       "      <td>0.117285</td>\n",
       "      <td>Refer customer to store</td>\n",
       "    </tr>\n",
       "    <tr>\n",
       "      <th>26</th>\n",
       "      <td>PA</td>\n",
       "      <td>0.116954</td>\n",
       "      <td>Payment address</td>\n",
       "    </tr>\n",
       "    <tr>\n",
       "      <th>27</th>\n",
       "      <td>me</td>\n",
       "      <td>0.114079</td>\n",
       "      <td>menu eService</td>\n",
       "    </tr>\n",
       "    <tr>\n",
       "      <th>28</th>\n",
       "      <td>DR</td>\n",
       "      <td>0.108000</td>\n",
       "      <td>Decline Sale</td>\n",
       "    </tr>\n",
       "    <tr>\n",
       "      <th>29</th>\n",
       "      <td>mn</td>\n",
       "      <td>0.107557</td>\n",
       "      <td>menu upfront</td>\n",
       "    </tr>\n",
       "  </tbody>\n",
       "</table>\n",
       "</div>"
      ],
      "text/plain": [
       "   reason  percentage IVR Call Reason for IVR Call Reporting\n",
       "0      PP   39.197995                         PBP Predictive\n",
       "1      BA   34.027611                        Account Summary\n",
       "2      PT   12.404146                            PBP Request\n",
       "3      AT    4.261065                   Account transactions\n",
       "4      CT    1.229228                    CIT Change in Terms\n",
       "5      AA    1.129408                             Activation\n",
       "6      FD    0.867424                           Fraud detect\n",
       "7      LS    0.733004                     Report lost stolen\n",
       "8      wa    0.702163                         Request waiver\n",
       "9      IC    0.395520                        Credit increase\n",
       "10     IA    0.388113      Identification and authentication\n",
       "11     AP    0.351524                   Address phone change\n",
       "12     mp    0.328199                           menu payment\n",
       "13     DP    0.323446                               Disputes\n",
       "14     FM    0.311839         manage fraud - L/S with fraud \n",
       "15     PI    0.250378                       Proactive Income\n",
       "16     WA    0.239766                        Late fee waiver\n",
       "17     CA    0.232802                          Close account\n",
       "18     RC    0.231143                       Replacement card\n",
       "19     CB    0.193228                  Credit balance refund\n",
       "20     SP    0.190132                        Summary payment\n",
       "21     iR    0.187258                                Rewards\n",
       "22     RP    0.165371                            PIN Request\n",
       "23     RV    0.159291                               Recovery\n",
       "24     eL    0.129445                         eService Login\n",
       "25     iL    0.117285                Refer customer to store\n",
       "26     PA    0.116954                        Payment address\n",
       "27     me    0.114079                          menu eService\n",
       "28     DR    0.108000                           Decline Sale\n",
       "29     mn    0.107557                           menu upfront"
      ]
     },
     "metadata": {},
     "output_type": "display_data"
    }
   ],
   "source": [
    "vc = df['reason'].value_counts()\n",
    "pt = vc/sum(vc)*100\n",
    "pt_main_idx = pt>0.1\n",
    "pt_main = pt[pt_main_idx]\n",
    "pt_main.name = 'percentage'\n",
    "\n",
    "\n",
    "resolved_counts = df.groupby('reason')['resolved'].value_counts(normalize=True) * 100\n",
    "resolved_counts = resolved_counts.loc[:, 'resolved']\n",
    "print(resolved_counts)\n",
    "\n",
    "dict = pd.read_csv(\"data/dictionary.csv\")\n",
    "merged_df = pt_main.to_frame().reset_index().merge(dict, left_on='reason', right_on='Code', how='left')\n",
    "merged_df = merged_df.drop(columns=['Code'])\n",
    "display(merged_df)\n"
   ]
  },
  {
   "cell_type": "code",
   "execution_count": 69,
   "metadata": {},
   "outputs": [
    {
     "data": {
      "text/html": [
       "<div>\n",
       "<style scoped>\n",
       "    .dataframe tbody tr th:only-of-type {\n",
       "        vertical-align: middle;\n",
       "    }\n",
       "\n",
       "    .dataframe tbody tr th {\n",
       "        vertical-align: top;\n",
       "    }\n",
       "\n",
       "    .dataframe thead th {\n",
       "        text-align: right;\n",
       "    }\n",
       "</style>\n",
       "<table border=\"1\" class=\"dataframe\">\n",
       "  <thead>\n",
       "    <tr style=\"text-align: right;\">\n",
       "      <th></th>\n",
       "      <th>reason</th>\n",
       "      <th>percentage</th>\n",
       "      <th>IVR Call Reason for IVR Call Reporting</th>\n",
       "      <th>resolved</th>\n",
       "    </tr>\n",
       "  </thead>\n",
       "  <tbody>\n",
       "    <tr>\n",
       "      <th>0</th>\n",
       "      <td>PP</td>\n",
       "      <td>39.197995</td>\n",
       "      <td>PBP Predictive</td>\n",
       "      <td>95.339793</td>\n",
       "    </tr>\n",
       "    <tr>\n",
       "      <th>19</th>\n",
       "      <td>CB</td>\n",
       "      <td>0.193228</td>\n",
       "      <td>Credit balance refund</td>\n",
       "      <td>94.508009</td>\n",
       "    </tr>\n",
       "    <tr>\n",
       "      <th>2</th>\n",
       "      <td>PT</td>\n",
       "      <td>12.404146</td>\n",
       "      <td>PBP Request</td>\n",
       "      <td>92.768153</td>\n",
       "    </tr>\n",
       "    <tr>\n",
       "      <th>3</th>\n",
       "      <td>AT</td>\n",
       "      <td>4.261065</td>\n",
       "      <td>Account transactions</td>\n",
       "      <td>87.238955</td>\n",
       "    </tr>\n",
       "    <tr>\n",
       "      <th>17</th>\n",
       "      <td>CA</td>\n",
       "      <td>0.232802</td>\n",
       "      <td>Close account</td>\n",
       "      <td>84.615385</td>\n",
       "    </tr>\n",
       "    <tr>\n",
       "      <th>20</th>\n",
       "      <td>SP</td>\n",
       "      <td>0.190132</td>\n",
       "      <td>Summary payment</td>\n",
       "      <td>78.895349</td>\n",
       "    </tr>\n",
       "    <tr>\n",
       "      <th>15</th>\n",
       "      <td>PI</td>\n",
       "      <td>0.250378</td>\n",
       "      <td>Proactive Income</td>\n",
       "      <td>77.086093</td>\n",
       "    </tr>\n",
       "    <tr>\n",
       "      <th>1</th>\n",
       "      <td>BA</td>\n",
       "      <td>34.027611</td>\n",
       "      <td>Account Summary</td>\n",
       "      <td>76.413872</td>\n",
       "    </tr>\n",
       "    <tr>\n",
       "      <th>22</th>\n",
       "      <td>RP</td>\n",
       "      <td>0.165371</td>\n",
       "      <td>PIN Request</td>\n",
       "      <td>65.307487</td>\n",
       "    </tr>\n",
       "    <tr>\n",
       "      <th>28</th>\n",
       "      <td>DR</td>\n",
       "      <td>0.108000</td>\n",
       "      <td>Decline Sale</td>\n",
       "      <td>54.247697</td>\n",
       "    </tr>\n",
       "    <tr>\n",
       "      <th>5</th>\n",
       "      <td>AA</td>\n",
       "      <td>1.129408</td>\n",
       "      <td>Activation</td>\n",
       "      <td>54.066751</td>\n",
       "    </tr>\n",
       "    <tr>\n",
       "      <th>9</th>\n",
       "      <td>IC</td>\n",
       "      <td>0.395520</td>\n",
       "      <td>Credit increase</td>\n",
       "      <td>52.459475</td>\n",
       "    </tr>\n",
       "    <tr>\n",
       "      <th>26</th>\n",
       "      <td>PA</td>\n",
       "      <td>0.116954</td>\n",
       "      <td>Payment address</td>\n",
       "      <td>50.661626</td>\n",
       "    </tr>\n",
       "    <tr>\n",
       "      <th>10</th>\n",
       "      <td>IA</td>\n",
       "      <td>0.388113</td>\n",
       "      <td>Identification and authentication</td>\n",
       "      <td>44.431786</td>\n",
       "    </tr>\n",
       "    <tr>\n",
       "      <th>25</th>\n",
       "      <td>iL</td>\n",
       "      <td>0.117285</td>\n",
       "      <td>Refer customer to store</td>\n",
       "      <td>39.679548</td>\n",
       "    </tr>\n",
       "    <tr>\n",
       "      <th>16</th>\n",
       "      <td>WA</td>\n",
       "      <td>0.239766</td>\n",
       "      <td>Late fee waiver</td>\n",
       "      <td>37.989857</td>\n",
       "    </tr>\n",
       "    <tr>\n",
       "      <th>12</th>\n",
       "      <td>mp</td>\n",
       "      <td>0.328199</td>\n",
       "      <td>menu payment</td>\n",
       "      <td>34.456046</td>\n",
       "    </tr>\n",
       "    <tr>\n",
       "      <th>7</th>\n",
       "      <td>LS</td>\n",
       "      <td>0.733004</td>\n",
       "      <td>Report lost stolen</td>\n",
       "      <td>34.218067</td>\n",
       "    </tr>\n",
       "    <tr>\n",
       "      <th>29</th>\n",
       "      <td>mn</td>\n",
       "      <td>0.107557</td>\n",
       "      <td>menu upfront</td>\n",
       "      <td>33.504625</td>\n",
       "    </tr>\n",
       "    <tr>\n",
       "      <th>18</th>\n",
       "      <td>RC</td>\n",
       "      <td>0.231143</td>\n",
       "      <td>Replacement card</td>\n",
       "      <td>32.185557</td>\n",
       "    </tr>\n",
       "    <tr>\n",
       "      <th>24</th>\n",
       "      <td>eL</td>\n",
       "      <td>0.129445</td>\n",
       "      <td>eService Login</td>\n",
       "      <td>31.511529</td>\n",
       "    </tr>\n",
       "    <tr>\n",
       "      <th>11</th>\n",
       "      <td>AP</td>\n",
       "      <td>0.351524</td>\n",
       "      <td>Address phone change</td>\n",
       "      <td>28.679245</td>\n",
       "    </tr>\n",
       "    <tr>\n",
       "      <th>21</th>\n",
       "      <td>iR</td>\n",
       "      <td>0.187258</td>\n",
       "      <td>Rewards</td>\n",
       "      <td>18.181818</td>\n",
       "    </tr>\n",
       "    <tr>\n",
       "      <th>27</th>\n",
       "      <td>me</td>\n",
       "      <td>0.114079</td>\n",
       "      <td>menu eService</td>\n",
       "      <td>8.914729</td>\n",
       "    </tr>\n",
       "    <tr>\n",
       "      <th>8</th>\n",
       "      <td>wa</td>\n",
       "      <td>0.702163</td>\n",
       "      <td>Request waiver</td>\n",
       "      <td>8.028967</td>\n",
       "    </tr>\n",
       "    <tr>\n",
       "      <th>14</th>\n",
       "      <td>FM</td>\n",
       "      <td>0.311839</td>\n",
       "      <td>manage fraud - L/S with fraud</td>\n",
       "      <td>7.834101</td>\n",
       "    </tr>\n",
       "    <tr>\n",
       "      <th>23</th>\n",
       "      <td>RV</td>\n",
       "      <td>0.159291</td>\n",
       "      <td>Recovery</td>\n",
       "      <td>7.009022</td>\n",
       "    </tr>\n",
       "    <tr>\n",
       "      <th>4</th>\n",
       "      <td>CT</td>\n",
       "      <td>1.229228</td>\n",
       "      <td>CIT Change in Terms</td>\n",
       "      <td>3.758993</td>\n",
       "    </tr>\n",
       "    <tr>\n",
       "      <th>6</th>\n",
       "      <td>FD</td>\n",
       "      <td>0.867424</td>\n",
       "      <td>Fraud detect</td>\n",
       "      <td>3.415318</td>\n",
       "    </tr>\n",
       "    <tr>\n",
       "      <th>13</th>\n",
       "      <td>DP</td>\n",
       "      <td>0.323446</td>\n",
       "      <td>Disputes</td>\n",
       "      <td>1.572112</td>\n",
       "    </tr>\n",
       "  </tbody>\n",
       "</table>\n",
       "</div>"
      ],
      "text/plain": [
       "   reason  percentage IVR Call Reason for IVR Call Reporting   resolved\n",
       "0      PP   39.197995                         PBP Predictive  95.339793\n",
       "19     CB    0.193228                  Credit balance refund  94.508009\n",
       "2      PT   12.404146                            PBP Request  92.768153\n",
       "3      AT    4.261065                   Account transactions  87.238955\n",
       "17     CA    0.232802                          Close account  84.615385\n",
       "20     SP    0.190132                        Summary payment  78.895349\n",
       "15     PI    0.250378                       Proactive Income  77.086093\n",
       "1      BA   34.027611                        Account Summary  76.413872\n",
       "22     RP    0.165371                            PIN Request  65.307487\n",
       "28     DR    0.108000                           Decline Sale  54.247697\n",
       "5      AA    1.129408                             Activation  54.066751\n",
       "9      IC    0.395520                        Credit increase  52.459475\n",
       "26     PA    0.116954                        Payment address  50.661626\n",
       "10     IA    0.388113      Identification and authentication  44.431786\n",
       "25     iL    0.117285                Refer customer to store  39.679548\n",
       "16     WA    0.239766                        Late fee waiver  37.989857\n",
       "12     mp    0.328199                           menu payment  34.456046\n",
       "7      LS    0.733004                     Report lost stolen  34.218067\n",
       "29     mn    0.107557                           menu upfront  33.504625\n",
       "18     RC    0.231143                       Replacement card  32.185557\n",
       "24     eL    0.129445                         eService Login  31.511529\n",
       "11     AP    0.351524                   Address phone change  28.679245\n",
       "21     iR    0.187258                                Rewards  18.181818\n",
       "27     me    0.114079                          menu eService   8.914729\n",
       "8      wa    0.702163                         Request waiver   8.028967\n",
       "14     FM    0.311839         manage fraud - L/S with fraud    7.834101\n",
       "23     RV    0.159291                               Recovery   7.009022\n",
       "4      CT    1.229228                    CIT Change in Terms   3.758993\n",
       "6      FD    0.867424                           Fraud detect   3.415318\n",
       "13     DP    0.323446                               Disputes   1.572112"
      ]
     },
     "metadata": {},
     "output_type": "display_data"
    }
   ],
   "source": [
    "df_main = df[df['reason'].isin(pt_main.index)]\n",
    "df_main.shape\n",
    "resolved_rate = df_main.groupby('reason')[\"resolved\"].apply(lambda x: (x.value_counts(normalize=True) * 100)['resolved'])\n",
    "\n",
    "report = merged_df.merge(resolved_rate, left_on='reason', right_index=True)\n",
    "report_sorted = report.sort_values(by='resolved', ascending=False)\n",
    "display(report_sorted)"
   ]
  },
  {
   "cell_type": "markdown",
   "metadata": {},
   "source": [
    "Feature understanding"
   ]
  },
  {
   "cell_type": "code",
   "execution_count": 86,
   "metadata": {},
   "outputs": [
    {
     "data": {
      "text/html": [
       "<div>\n",
       "<style scoped>\n",
       "    .dataframe tbody tr th:only-of-type {\n",
       "        vertical-align: middle;\n",
       "    }\n",
       "\n",
       "    .dataframe tbody tr th {\n",
       "        vertical-align: top;\n",
       "    }\n",
       "\n",
       "    .dataframe thead th {\n",
       "        text-align: right;\n",
       "    }\n",
       "</style>\n",
       "<table border=\"1\" class=\"dataframe\">\n",
       "  <thead>\n",
       "    <tr style=\"text-align: right;\">\n",
       "      <th></th>\n",
       "      <th>timestamp_call_key</th>\n",
       "      <th>retailer_code</th>\n",
       "      <th>serial</th>\n",
       "      <th>reason</th>\n",
       "      <th>mos</th>\n",
       "      <th>resolved</th>\n",
       "    </tr>\n",
       "  </thead>\n",
       "  <tbody>\n",
       "    <tr>\n",
       "      <th>522569</th>\n",
       "      <td>240317160423 DAL6IJ1T</td>\n",
       "      <td>F</td>\n",
       "      <td>10009018544</td>\n",
       "      <td>BA</td>\n",
       "      <td>IA BA TS</td>\n",
       "      <td>resolved</td>\n",
       "    </tr>\n",
       "    <tr>\n",
       "      <th>238457</th>\n",
       "      <td>240317205720 PHX51B58</td>\n",
       "      <td>B</td>\n",
       "      <td>10002120301</td>\n",
       "      <td>BA</td>\n",
       "      <td>IA BA</td>\n",
       "      <td>resolved</td>\n",
       "    </tr>\n",
       "    <tr>\n",
       "      <th>555251</th>\n",
       "      <td>240314113710 DAL6PSE8</td>\n",
       "      <td>A</td>\n",
       "      <td>10001013750</td>\n",
       "      <td>BA</td>\n",
       "      <td>IA IA BA MR nl TR</td>\n",
       "      <td>floor</td>\n",
       "    </tr>\n",
       "    <tr>\n",
       "      <th>747548</th>\n",
       "      <td>240315110713 DAL4VTL1</td>\n",
       "      <td>A</td>\n",
       "      <td>10001057778</td>\n",
       "      <td>BA</td>\n",
       "      <td>IA IA BA</td>\n",
       "      <td>resolved</td>\n",
       "    </tr>\n",
       "    <tr>\n",
       "      <th>50170</th>\n",
       "      <td>240315071536 DAL5SWIL</td>\n",
       "      <td>D</td>\n",
       "      <td>10005017188</td>\n",
       "      <td>PT</td>\n",
       "      <td>IA BA MR nl PT TR</td>\n",
       "      <td>resolved</td>\n",
       "    </tr>\n",
       "  </tbody>\n",
       "</table>\n",
       "</div>"
      ],
      "text/plain": [
       "           timestamp_call_key retailer_code       serial reason  \\\n",
       "522569  240317160423 DAL6IJ1T             F  10009018544     BA   \n",
       "238457  240317205720 PHX51B58             B  10002120301     BA   \n",
       "555251  240314113710 DAL6PSE8             A  10001013750     BA   \n",
       "747548  240315110713 DAL4VTL1             A  10001057778     BA   \n",
       "50170   240315071536 DAL5SWIL             D  10005017188     PT   \n",
       "\n",
       "                      mos  resolved  \n",
       "522569           IA BA TS  resolved  \n",
       "238457              IA BA  resolved  \n",
       "555251  IA IA BA MR nl TR     floor  \n",
       "747548           IA IA BA  resolved  \n",
       "50170   IA BA MR nl PT TR  resolved  "
      ]
     },
     "execution_count": 86,
     "metadata": {},
     "output_type": "execute_result"
    }
   ],
   "source": [
    "mydf = df.iloc[:,:6]\n",
    "mydf.sample(5)"
   ]
  },
  {
   "cell_type": "code",
   "execution_count": 91,
   "metadata": {},
   "outputs": [
    {
     "name": "stdout",
     "output_type": "stream",
     "text": [
      "timestamp_call_key 904633\n",
      "retailer_code 25\n",
      "serial 757220\n",
      "reason 66\n",
      "mos 28771\n",
      "resolved 2\n"
     ]
    }
   ],
   "source": [
    "for col in mydf.columns:\n",
    "    print(col, len(mydf[col].unique()))"
   ]
  },
  {
   "cell_type": "code",
   "execution_count": 136,
   "metadata": {},
   "outputs": [
    {
     "data": {
      "text/plain": [
       "904633"
      ]
     },
     "execution_count": 136,
     "metadata": {},
     "output_type": "execute_result"
    }
   ],
   "source": [
    "len(df) #re-calls"
   ]
  },
  {
   "cell_type": "code",
   "execution_count": 99,
   "metadata": {},
   "outputs": [
    {
     "data": {
      "text/plain": [
       "retailer_code\n",
       "B    198320\n",
       "A    188241\n",
       "D    171362\n",
       "C    126941\n",
       "E    101345\n",
       "F     23336\n",
       "I     22511\n",
       "G     17082\n",
       "H     16064\n",
       "J     14025\n",
       "L      5850\n",
       "K      5448\n",
       "M      3561\n",
       "O      2750\n",
       "N      2369\n",
       "Q      2112\n",
       "P      1590\n",
       "R       619\n",
       "S       448\n",
       "T       298\n",
       "U       204\n",
       "W        93\n",
       "X        33\n",
       "Y        28\n",
       "V         3\n",
       "Name: count, dtype: int64"
      ]
     },
     "execution_count": 99,
     "metadata": {},
     "output_type": "execute_result"
    }
   ],
   "source": [
    "df['retailer_code'].value_counts()"
   ]
  },
  {
   "cell_type": "code",
   "execution_count": 138,
   "metadata": {},
   "outputs": [
    {
     "data": {
      "text/plain": [
       "0.1444098148490531"
      ]
     },
     "execution_count": 138,
     "metadata": {},
     "output_type": "execute_result"
    }
   ],
   "source": [
    "df_serial = df['serial'].value_counts()\n",
    "len(df_serial[df_serial>1])/len(df_serial)"
   ]
  },
  {
   "cell_type": "code",
   "execution_count": 118,
   "metadata": {},
   "outputs": [
    {
     "data": {
      "text/plain": [
       "True"
      ]
     },
     "execution_count": 118,
     "metadata": {},
     "output_type": "execute_result"
    }
   ],
   "source": [
    "mos = set(list(dict['Code']))\n",
    "func = (lambda x: x in mos)\n",
    "df['reason'].apply(func).sum()==len(df['reason'])"
   ]
  },
  {
   "cell_type": "code",
   "execution_count": 124,
   "metadata": {},
   "outputs": [],
   "source": [
    "dummy = pd.DataFrame(columns=list(mos), index=df.index)\n",
    "dummy_df = pd.concat([df, dummy], axis=1)"
   ]
  },
  {
   "cell_type": "code",
   "execution_count": 128,
   "metadata": {},
   "outputs": [
    {
     "name": "stderr",
     "output_type": "stream",
     "text": [
      "  0%|          | 0/154 [00:00<?, ?it/s]"
     ]
    },
    {
     "name": "stderr",
     "output_type": "stream",
     "text": [
      "100%|██████████| 154/154 [00:43<00:00,  3.51it/s]\n"
     ]
    }
   ],
   "source": [
    "from tqdm import tqdm\n",
    "for i in df.index:\n",
    "    strs = df[i,'mos'].split(\" \")\n",
    "for val in tqdm(list(mos)):\n",
    "    dummy_df[val] = dummy_df['reason'].apply(lambda x: 1 if val in x else 0)"
   ]
  },
  {
   "cell_type": "code",
   "execution_count": 132,
   "metadata": {},
   "outputs": [
    {
     "data": {
      "text/plain": [
       "['IA', 'PP', 'TR']"
      ]
     },
     "execution_count": 132,
     "metadata": {},
     "output_type": "execute_result"
    }
   ],
   "source": [
    "df.loc[0,'mos'].split(\" \")"
   ]
  },
  {
   "cell_type": "code",
   "execution_count": 135,
   "metadata": {},
   "outputs": [
    {
     "data": {
      "text/plain": [
       "Index(['timestamp_call_key', 'retailer_code', 'serial', 'reason', 'mos',\n",
       "       'resolved', 'no_of_accounts_with_syf_13_march',\n",
       "       'account_balance_13_march', 'delinquency_history_13_march',\n",
       "       'account_open_date_13_march', 'account_status_13_march',\n",
       "       'card_activation_status_13_march', 'eservice_ind_13_march',\n",
       "       'ebill_enrolled_status_13_march', 'auto_pay_enrolled_status_13_march',\n",
       "       'no_of_accounts_with_syf_18_march', 'account_balance_18_march',\n",
       "       'delinquency_history_18_march', 'account_open_date_18_march',\n",
       "       'account_status_18_march', 'card_activation_status_18_march',\n",
       "       'eservice_ind_18_march', 'ebill_enrolled_status_18_march',\n",
       "       'auto_pay_enrolled_status_18_march'],\n",
       "      dtype='object')"
      ]
     },
     "execution_count": 135,
     "metadata": {},
     "output_type": "execute_result"
    }
   ],
   "source": [
    "dataframes[1].columns\n"
   ]
  },
  {
   "cell_type": "code",
   "execution_count": 142,
   "metadata": {},
   "outputs": [
    {
     "data": {
      "text/plain": [
       "array(['240315', '240317', '240314', '240316', '240313'], dtype=object)"
      ]
     },
     "execution_count": 142,
     "metadata": {},
     "output_type": "execute_result"
    }
   ],
   "source": [
    "df[\"timestamp_call_key\"].apply(lambda x: x[:6]).unique()"
   ]
  },
  {
   "cell_type": "code",
   "execution_count": 162,
   "metadata": {},
   "outputs": [
    {
     "name": "stdout",
     "output_type": "stream",
     "text": [
      "0.050       0.00\n",
      "0.125      16.61\n",
      "0.250     112.73\n",
      "0.500     464.39\n",
      "0.750    1477.11\n",
      "Name: account_balance_13_march, dtype: float64\n"
     ]
    }
   ],
   "source": [
    "import seaborn as sns\n",
    "column_name = 'account_balance_13_march'\n",
    "quantiles = df[column_name].quantile([0.05, 0.125, 0.25, 0.5, 0.75])\n",
    "print(quantiles)\n"
   ]
  },
  {
   "cell_type": "code",
   "execution_count": 166,
   "metadata": {},
   "outputs": [
    {
     "data": {
      "text/plain": [
       "2"
      ]
     },
     "execution_count": 166,
     "metadata": {},
     "output_type": "execute_result"
    }
   ],
   "source": [
    "(df['account_open_date_13_march']!=df['account_open_date_18_march']).sum()"
   ]
  },
  {
   "cell_type": "code",
   "execution_count": 165,
   "metadata": {},
   "outputs": [
    {
     "data": {
      "text/plain": [
       "904633"
      ]
     },
     "execution_count": 165,
     "metadata": {},
     "output_type": "execute_result"
    }
   ],
   "source": [
    "len(df['account_open_date_13_march'])"
   ]
  },
  {
   "cell_type": "code",
   "execution_count": 173,
   "metadata": {},
   "outputs": [],
   "source": [
    "df['resolved'] = (df['resolved']=='resolved')"
   ]
  },
  {
   "cell_type": "code",
   "execution_count": 171,
   "metadata": {},
   "outputs": [],
   "source": [
    "objects_columns = [\"account_status_13_march\",\"delinquency_history_13_march\", \"card_activation_status_13_march\",\"ebill_enrolled_status_13_march\" ]\n",
    "objects_columns_new = [\"account_status_18_march\",\"delinquency_history_18_march\", \"card_activation_status_18_march\",\"ebill_enrolled_status_18_march\" ]"
   ]
  },
  {
   "cell_type": "code",
   "execution_count": 177,
   "metadata": {},
   "outputs": [
    {
     "name": "stdout",
     "output_type": "stream",
     "text": [
      "0.8039635962871131\n",
      "0.01130624242095966\n",
      "0.007505806221970677\n",
      "0.0037816440479177746\n"
     ]
    }
   ],
   "source": [
    "for col,col_new in zip(objects_columns,objects_columns_new):\n",
    "    idx = (df[col] != df[col_new])\n",
    "    print(df.loc[idx,'resolved'].sum()/len(idx))"
   ]
  },
  {
   "cell_type": "code",
   "execution_count": null,
   "metadata": {},
   "outputs": [],
   "source": [
    "correlation_matrix = df.corr()\n"
   ]
  },
  {
   "cell_type": "code",
   "execution_count": null,
   "metadata": {},
   "outputs": [],
   "source": [
    "class preprocess():\n",
    "    def __init__(self):\n",
    "        pass\n",
    "\n",
    "    def process(self,df):\n",
    "        df = self.turn_mos_into_numbers(df)\n",
    "        return df   \n",
    "    \n",
    "    def turn_mos_into_numbers(self,df):\n",
    "        \n",
    "        return df "
   ]
  }
 ],
 "metadata": {
  "kernelspec": {
   "display_name": "Python 3",
   "language": "python",
   "name": "python3"
  },
  "language_info": {
   "codemirror_mode": {
    "name": "ipython",
    "version": 3
   },
   "file_extension": ".py",
   "mimetype": "text/x-python",
   "name": "python",
   "nbconvert_exporter": "python",
   "pygments_lexer": "ipython3",
   "version": "3.12.0"
  }
 },
 "nbformat": 4,
 "nbformat_minor": 2
}
