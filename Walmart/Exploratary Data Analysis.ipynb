{
 "cells": [
  {
   "cell_type": "code",
<<<<<<< HEAD
   "execution_count": 21,
   "id": "26be3d99",
=======
   "execution_count": 87,
>>>>>>> 46ed116555965570a051572482a7d54244d96e07
   "metadata": {},
   "outputs": [
    {
     "name": "stdout",
     "output_type": "stream",
     "text": [
      "columns of data\\features.csv:\n",
      "['Store', 'Date', 'Temperature', 'Fuel_Price', 'MarkDown1', 'MarkDown2', 'MarkDown3', 'MarkDown4', 'MarkDown5', 'CPI', 'Unemployment', 'IsHoliday']\n",
      "columns of data\\stores.csv:\n",
      "['Store', 'Type', 'Size']\n",
      "columns of data\\train.csv:\n",
      "['Store', 'Dept', 'Date', 'Weekly_Sales', 'IsHoliday']\n",
      "columns of data\\test.csv:\n",
      "['Store', 'Dept', 'Date', 'IsHoliday']\n"
     ]
    }
   ],
   "source": [
    "import os\n",
    "import pandas as pd\n",
    "\n",
    "folder_path = 'data'\n",
    "filenames = ['features.csv','stores.csv','train.csv','test.csv']\n",
    "dataframes = [None,None,None,None]\n",
    "for i,filename in enumerate(filenames):\n",
    "    print(\"columns of \" + os.path.join(folder_path,filename) + \":\")\n",
    "    dataframes[i] = pd.read_csv(os.path.join(folder_path,filename))\n",
    "    print(list(dataframes[i].columns))\n"
   ]
  },
  {
   "cell_type": "code",
   "execution_count": 88,
   "id": "30370f1e",
   "metadata": {},
   "outputs": [
    {
     "name": "stdout",
     "output_type": "stream",
     "text": [
      "total rows : 8190, with na : 6121\n",
      "with data column :\n",
      "[(182, Timestamp('2010-02-05 00:00:00'), Timestamp('2013-07-26 00:00:00')), 182]\n",
      "total rows : 45, with na : 0\n",
      "total rows : 421570, with na : 0\n",
      "with data column :\n",
      "[(143, Timestamp('2010-02-05 00:00:00'), Timestamp('2012-10-26 00:00:00')), 143]\n",
      "total rows : 115064, with na : 0\n",
      "with data column :\n",
      "[(39, Timestamp('2012-11-02 00:00:00'), Timestamp('2013-07-26 00:00:00')), 39]\n"
     ]
    }
   ],
   "source": [
    "from datetime import datetime\n",
    "for df in dataframes:\n",
    "    na_counts = df.isna().any(axis=1).sum()\n",
    "    print(f\"total rows : {df.shape[0]}, with na : {na_counts}\")\n",
    "    if \"Date\" in df.columns:\n",
    "        print(\"with data column :\")\n",
    "        df[\"Date\"] = pd.to_datetime(df[\"Date\"],format='%Y-%m-%d')\n",
    "        datetimes = df[\"Date\"]\n",
    "        ls = [(len(datetimes.unique()),datetimes.min(),datetimes.max())]\n",
    "        timedelta = datetimes.max() - datetimes.min()\n",
    "        num_weeks = timedelta.days // 7\n",
    "        ls.append(num_weeks+1)\n",
    "        print(ls)             "
   ]
  },
  {
   "cell_type": "code",
   "execution_count": 89,
   "id": "72604c4a",
   "metadata": {},
   "outputs": [
    {
     "name": "stdout",
     "output_type": "stream",
     "text": [
      "from week : 2010-02-05 00:00:00, to : 2013-07-26 00:00:00\n",
      "from week : 2010-02-05 00:00:00, to : 2012-10-26 00:00:00\n",
      "from week : 2012-11-02 00:00:00, to : 2013-07-26 00:00:00\n"
     ]
    }
   ],
   "source": [
    "train = dataframes[2]\n",
    "starttime = train[\"Date\"].min()\n",
    "for df in dataframes:\n",
    "    if (\"Date\" in df.columns):\n",
    "        if (df[\"Date\"].dtype == 'datetime64[ns]'):\n",
    "            weeks = (df['Date'] - starttime).dt.days//7\n",
    "            df['year'] = weeks//52\n",
    "            df['week'] = weeks%52\n",
    "        print(f\"from week : {df[\"Date\"].min()}, to : {df[\"Date\"].max()}\")"
   ]
  },
  {
   "cell_type": "code",
   "execution_count": 90,
   "id": "9a0db443",
   "metadata": {},
   "outputs": [
    {
     "name": "stdout",
     "output_type": "stream",
     "text": [
      "Index(['Store', 'Dept', 'Date', 'Weekly_Sales', 'IsHoliday', 'year', 'week'], dtype='object')\n",
      "               Store           Dept                           Date  \\\n",
      "count  421570.000000  421570.000000                         421570   \n",
      "mean       22.200546      44.260317  2011-06-18 08:30:31.963375104   \n",
      "min         1.000000       1.000000            2010-02-05 00:00:00   \n",
      "25%        11.000000      18.000000            2010-10-08 00:00:00   \n",
      "50%        22.000000      37.000000            2011-06-17 00:00:00   \n",
      "75%        33.000000      74.000000            2012-02-24 00:00:00   \n",
      "max        45.000000      99.000000            2012-10-26 00:00:00   \n",
      "std        12.785297      30.492054                            NaN   \n",
      "\n",
      "        Weekly_Sales           year           week  \n",
      "count  421570.000000  421570.000000  421570.000000  \n",
      "mean    15981.258123       0.912740      23.731001  \n",
      "min     -4988.940000       0.000000       0.000000  \n",
      "25%      2079.650000       0.000000      11.000000  \n",
      "50%      7612.030000       1.000000      23.000000  \n",
      "75%     20205.852500       2.000000      35.000000  \n",
      "max    693099.360000       2.000000      51.000000  \n",
      "std     22711.183519       0.792475      14.399820  \n"
     ]
    },
    {
     "data": {
      "text/html": [
       "<div>\n",
       "<style scoped>\n",
       "    .dataframe tbody tr th:only-of-type {\n",
       "        vertical-align: middle;\n",
       "    }\n",
       "\n",
       "    .dataframe tbody tr th {\n",
       "        vertical-align: top;\n",
       "    }\n",
       "\n",
       "    .dataframe thead th {\n",
       "        text-align: right;\n",
       "    }\n",
       "</style>\n",
       "<table border=\"1\" class=\"dataframe\">\n",
       "  <thead>\n",
       "    <tr style=\"text-align: right;\">\n",
       "      <th></th>\n",
       "      <th>Store</th>\n",
       "      <th>Dept</th>\n",
       "      <th>Date</th>\n",
       "      <th>Weekly_Sales</th>\n",
       "      <th>IsHoliday</th>\n",
       "      <th>year</th>\n",
       "      <th>week</th>\n",
       "    </tr>\n",
       "  </thead>\n",
       "  <tbody>\n",
       "    <tr>\n",
       "      <th>86083</th>\n",
       "      <td>9</td>\n",
       "      <td>79</td>\n",
       "      <td>2012-01-27</td>\n",
       "      <td>13015.14</td>\n",
       "      <td>False</td>\n",
       "      <td>1</td>\n",
       "      <td>51</td>\n",
       "    </tr>\n",
       "    <tr>\n",
       "      <th>44839</th>\n",
       "      <td>5</td>\n",
       "      <td>40</td>\n",
       "      <td>2010-09-03</td>\n",
       "      <td>18669.30</td>\n",
       "      <td>False</td>\n",
       "      <td>0</td>\n",
       "      <td>30</td>\n",
       "    </tr>\n",
       "    <tr>\n",
       "      <th>9156</th>\n",
       "      <td>1</td>\n",
       "      <td>91</td>\n",
       "      <td>2011-06-24</td>\n",
       "      <td>58934.29</td>\n",
       "      <td>False</td>\n",
       "      <td>1</td>\n",
       "      <td>20</td>\n",
       "    </tr>\n",
       "    <tr>\n",
       "      <th>150330</th>\n",
       "      <td>16</td>\n",
       "      <td>18</td>\n",
       "      <td>2010-10-29</td>\n",
       "      <td>11546.39</td>\n",
       "      <td>False</td>\n",
       "      <td>0</td>\n",
       "      <td>38</td>\n",
       "    </tr>\n",
       "    <tr>\n",
       "      <th>113223</th>\n",
       "      <td>12</td>\n",
       "      <td>41</td>\n",
       "      <td>2011-04-01</td>\n",
       "      <td>318.00</td>\n",
       "      <td>False</td>\n",
       "      <td>1</td>\n",
       "      <td>8</td>\n",
       "    </tr>\n",
       "  </tbody>\n",
       "</table>\n",
       "</div>"
      ],
      "text/plain": [
       "        Store  Dept       Date  Weekly_Sales  IsHoliday  year  week\n",
       "86083       9    79 2012-01-27      13015.14      False     1    51\n",
       "44839       5    40 2010-09-03      18669.30      False     0    30\n",
       "9156        1    91 2011-06-24      58934.29      False     1    20\n",
       "150330     16    18 2010-10-29      11546.39      False     0    38\n",
       "113223     12    41 2011-04-01        318.00      False     1     8"
      ]
     },
     "metadata": {},
     "output_type": "display_data"
    },
    {
     "name": "stdout",
     "output_type": "stream",
     "text": [
      "Index(['Store', 'Dept', 'Date', 'IsHoliday', 'year', 'week'], dtype='object')\n",
      "               Store           Dept                           Date  \\\n",
      "count  115064.000000  115064.000000                         115064   \n",
      "mean       22.238207      44.339524  2013-03-14 14:39:41.311270144   \n",
      "min         1.000000       1.000000            2012-11-02 00:00:00   \n",
      "25%        11.000000      18.000000            2013-01-04 00:00:00   \n",
      "50%        22.000000      37.000000            2013-03-15 00:00:00   \n",
      "75%        33.000000      74.000000            2013-05-24 00:00:00   \n",
      "max        45.000000      99.000000            2013-07-26 00:00:00   \n",
      "std        12.809930      30.656410                            NaN   \n",
      "\n",
      "                year           week  \n",
      "count  115064.000000  115064.000000  \n",
      "mean        2.664639      23.383195  \n",
      "min         2.000000       0.000000  \n",
      "25%         2.000000       9.000000  \n",
      "50%         3.000000      19.000000  \n",
      "75%         3.000000      42.000000  \n",
      "max         3.000000      51.000000  \n",
      "std         0.472119      16.665097  \n"
     ]
    },
    {
     "data": {
      "text/html": [
       "<div>\n",
       "<style scoped>\n",
       "    .dataframe tbody tr th:only-of-type {\n",
       "        vertical-align: middle;\n",
       "    }\n",
       "\n",
       "    .dataframe tbody tr th {\n",
       "        vertical-align: top;\n",
       "    }\n",
       "\n",
       "    .dataframe thead th {\n",
       "        text-align: right;\n",
       "    }\n",
       "</style>\n",
       "<table border=\"1\" class=\"dataframe\">\n",
       "  <thead>\n",
       "    <tr style=\"text-align: right;\">\n",
       "      <th></th>\n",
       "      <th>Store</th>\n",
       "      <th>Dept</th>\n",
       "      <th>Date</th>\n",
       "      <th>IsHoliday</th>\n",
       "      <th>year</th>\n",
       "      <th>week</th>\n",
       "    </tr>\n",
       "  </thead>\n",
       "  <tbody>\n",
       "    <tr>\n",
       "      <th>86683</th>\n",
       "      <td>33</td>\n",
       "      <td>74</td>\n",
       "      <td>2012-12-28</td>\n",
       "      <td>True</td>\n",
       "      <td>2</td>\n",
       "      <td>47</td>\n",
       "    </tr>\n",
       "    <tr>\n",
       "      <th>48079</th>\n",
       "      <td>18</td>\n",
       "      <td>92</td>\n",
       "      <td>2013-06-21</td>\n",
       "      <td>False</td>\n",
       "      <td>3</td>\n",
       "      <td>20</td>\n",
       "    </tr>\n",
       "    <tr>\n",
       "      <th>78024</th>\n",
       "      <td>29</td>\n",
       "      <td>98</td>\n",
       "      <td>2012-11-09</td>\n",
       "      <td>False</td>\n",
       "      <td>2</td>\n",
       "      <td>40</td>\n",
       "    </tr>\n",
       "    <tr>\n",
       "      <th>101155</th>\n",
       "      <td>40</td>\n",
       "      <td>3</td>\n",
       "      <td>2013-05-17</td>\n",
       "      <td>False</td>\n",
       "      <td>3</td>\n",
       "      <td>15</td>\n",
       "    </tr>\n",
       "    <tr>\n",
       "      <th>46085</th>\n",
       "      <td>18</td>\n",
       "      <td>13</td>\n",
       "      <td>2013-05-03</td>\n",
       "      <td>False</td>\n",
       "      <td>3</td>\n",
       "      <td>13</td>\n",
       "    </tr>\n",
       "  </tbody>\n",
       "</table>\n",
       "</div>"
      ],
      "text/plain": [
       "        Store  Dept       Date  IsHoliday  year  week\n",
       "86683      33    74 2012-12-28       True     2    47\n",
       "48079      18    92 2013-06-21      False     3    20\n",
       "78024      29    98 2012-11-09      False     2    40\n",
       "101155     40     3 2013-05-17      False     3    15\n",
       "46085      18    13 2013-05-03      False     3    13"
      ]
     },
     "metadata": {},
     "output_type": "display_data"
    }
   ],
   "source": [
    "for i,df in enumerate(dataframes):\n",
    "    if (i == 2) | (i == 3):\n",
    "        print(df.columns)\n",
    "        print(df.describe())\n",
    "        display(df.sample(5))"
   ]
  },
  {
   "cell_type": "markdown",
   "id": "a0d70b22",
   "metadata": {},
   "source": [
    "Stage 1: Simple Model "
   ]
  },
  {
   "cell_type": "code",
   "execution_count": 113,
   "id": "00336c95",
   "metadata": {},
   "outputs": [
    {
     "name": "stdout",
     "output_type": "stream",
     "text": [
      "Index(['Store', 'Weekly_Sales', 'IsHoliday', 'year', 'week', 'Dept_1',\n",
      "       'Dept_2', 'Dept_3', 'Dept_4', 'Dept_5', 'Dept_6', 'Dept_7', 'Dept_8',\n",
      "       'Dept_9', 'Dept_10', 'Dept_11', 'Dept_12', 'Dept_13', 'Dept_14',\n",
      "       'Dept_16', 'Dept_17', 'Dept_18', 'Dept_19', 'Dept_20', 'Dept_21',\n",
      "       'Dept_22', 'Dept_23', 'Dept_24', 'Dept_25', 'Dept_26', 'Dept_27',\n",
      "       'Dept_28', 'Dept_29', 'Dept_30', 'Dept_31', 'Dept_32', 'Dept_33',\n",
      "       'Dept_34', 'Dept_35', 'Dept_36', 'Dept_37', 'Dept_38', 'Dept_39',\n",
      "       'Dept_40', 'Dept_41', 'Dept_42', 'Dept_43', 'Dept_44', 'Dept_45',\n",
      "       'Dept_46', 'Dept_47', 'Dept_48', 'Dept_49', 'Dept_50', 'Dept_51',\n",
      "       'Dept_52', 'Dept_54', 'Dept_55', 'Dept_56', 'Dept_58', 'Dept_59',\n",
      "       'Dept_60', 'Dept_65', 'Dept_67', 'Dept_71', 'Dept_72', 'Dept_74',\n",
      "       'Dept_77', 'Dept_78', 'Dept_79', 'Dept_80', 'Dept_81', 'Dept_82',\n",
      "       'Dept_83', 'Dept_85', 'Dept_87', 'Dept_90', 'Dept_91', 'Dept_92',\n",
      "       'Dept_93', 'Dept_94', 'Dept_95', 'Dept_96', 'Dept_97', 'Dept_98',\n",
      "       'Dept_99'],\n",
      "      dtype='object')\n"
     ]
    }
   ],
   "source": [
    "from sklearn.preprocessing import StandardScaler\n",
    "train = dataframes[2]\n",
    "train_ = train.drop(columns=['Date'])\n",
    "test = dataframes[3]\n",
    "test_ = test.drop(columns=['Date'])\n",
    "\n",
    "def onehot_encode(df,columns=['Dept','Store']):\n",
    "    return pd.get_dummies(df, columns=columns)\n",
    "train_encoded = onehot_encode(train_,['Dept'])\n",
    "test_encoded = onehot_encode(test_,['Dept'])\n",
    "\n",
    "X = train_encoded.drop(columns=['Weekly_Sales'])\n",
    "y = train_encoded['Weekly_Sales']\n",
    "X_test = test_encoded\n",
    "\n",
    "scaler = StandardScaler()\n",
    "newy = scaler.fit_transform(y.values.reshape(-1,1)).flatten()\n",
    "y = pd.Series(newy,index=y.index,name='Weekly_Sales')\n",
    "\n",
    "display(X.sample(5))\n",
    "display(y.sample(5))"
   ]
  },
  {
   "cell_type": "code",
   "execution_count": 132,
   "id": "60aa49e5",
   "metadata": {},
   "outputs": [],
   "source": [
    "from sklearn.model_selection import train_test_split\n",
    "from sklearn.linear_model import LinearRegression\n",
    "from sklearn.ensemble import RandomForestRegressor\n",
    "from xgboost import XGBRegressor\n",
    "from sklearn.model_selection import KFold\n",
    "from sklearn.metrics import mean_squared_error\n",
    "import numpy as np\n",
    "\n",
    "modelnames = [\"LinearRegression\",\"RandomForest\",\"XGBoost\"]\n",
    "\n",
    "class model():\n",
    "    def __init__(self,name,kfold=5):\n",
    "        self.modelname = name\n",
    "        self.k = kfold\n",
    "\n",
    "    def name2model(self,name):\n",
    "        if name == \"LinearRegression\":\n",
    "            return LinearRegression()\n",
    "        if name == \"RandomForest\":\n",
    "            return RandomForestRegressor()\n",
    "        if name == \"XGBoost\":\n",
    "            return XGBRegressor()\n",
    "        \n",
    "    \n",
    "    def cross_validate(self,X,y):\n",
    "        scores = []\n",
    "        rmses = []\n",
    "\n",
    "        kf = KFold(n_splits=self.k, shuffle=True, random_state=42)\n",
    "\n",
    "        # Iterate over the folds\n",
    "        for i,(train_index, test_index) in enumerate(kf.split(X,y)):\n",
    "            # Get the training and test data for this fold\n",
    "            X_train, X_test = X.iloc[train_index], X.iloc[test_index]\n",
    "            y_train, y_test = y.iloc[train_index], y.iloc[test_index]\n",
    "            \n",
    "            # Train and evaluate your model on this fold\n",
    "            model = self.name2model(self.modelname)\n",
    "            model.fit(X_train, y_train)\n",
    "            score = model.score(X_test, y_test)\n",
    "            scores.append(score)\n",
    "            print(\"Model score on test data (fold {0:d}): {1:.4f}\".format(i, score))\n",
    "            \n",
    "            y_pred = model.predict(X_test)\n",
    "            rmse = np.sqrt(mean_squared_error(y_test, y_pred, squared=False))\n",
    "            rmses.append(rmse)\n",
    "            print(\"RMSE on test data (fold {0:d}): {1:.4f}\".format(i, rmse))\n",
    "\n",
    "        scores = np.array(scores)\n",
    "        rmses = np.array(rmses)\n",
    "        print(\"Average validation score: {:.4f} pm {:.4f}\".format(scores.mean(), scores.std()))\n",
    "        print(\"Average RMSE: {0:.4f}, {1:.4f}\".format(rmses.mean(), rmses.std()))"
   ]
  },
  {
   "cell_type": "code",
   "execution_count": 137,
   "id": "33eccbf9",
   "metadata": {},
   "outputs": [
    {
     "name": "stdout",
     "output_type": "stream",
     "text": [
      "Model score on test data (fold 0): 0.5491\n",
      "RMSE on test data (fold 0): 0.8217\n",
      "Model score on test data (fold 1): 0.5485\n",
      "RMSE on test data (fold 1): 0.8172\n",
      "Model score on test data (fold 2): 0.5534\n",
      "RMSE on test data (fold 2): 0.8142\n",
      "Model score on test data (fold 3): 0.5543\n",
      "RMSE on test data (fold 3): 0.8181\n",
      "Model score on test data (fold 4): 0.5477\n",
      "RMSE on test data (fold 4): 0.8226\n",
      "Average validation score: 0.5506 pm 0.0027\n",
      "Average RMSE: 0.8187, 0.0031\n"
     ]
    }
   ],
   "source": [
    "newmodel = model(\"LinearRegression\")\n",
    "newmodel.cross_validate(X,y)"
   ]
  },
  {
   "cell_type": "code",
   "execution_count": 136,
   "id": "3d9d3c91",
   "metadata": {},
   "outputs": [
    {
     "name": "stdout",
     "output_type": "stream",
     "text": [
      "Model score on test data (fold 0): 0.9697\n",
      "RMSE on test data (fold 0): 0.4183\n",
      "Model score on test data (fold 1): 0.9703\n",
      "RMSE on test data (fold 1): 0.4139\n",
      "Model score on test data (fold 2): 0.9723\n",
      "RMSE on test data (fold 2): 0.4065\n",
      "Model score on test data (fold 3): 0.9722\n",
      "RMSE on test data (fold 3): 0.4088\n",
      "Model score on test data (fold 4): 0.9699\n",
      "RMSE on test data (fold 4): 0.4178\n",
      "Average validation score: 0.9709 pm 0.0011\n",
      "Average RMSE: 0.4130, 0.0047\n"
     ]
    }
   ],
   "source": [
    "newmodel = model(\"RandomForest\")\n",
    "newmodel.cross_validate(X,y)"
   ]
  },
  {
   "cell_type": "code",
   "execution_count": 138,
   "id": "987363e8",
   "metadata": {},
   "outputs": [
    {
     "name": "stdout",
     "output_type": "stream",
     "text": [
      "Model score on test data (fold 0): 0.8986\n",
      "RMSE on test data (fold 0): 0.5659\n",
      "Model score on test data (fold 1): 0.8960\n",
      "RMSE on test data (fold 1): 0.5662\n",
      "Model score on test data (fold 2): 0.8991\n",
      "RMSE on test data (fold 2): 0.5614\n",
      "Model score on test data (fold 3): 0.8991\n",
      "RMSE on test data (fold 3): 0.5643\n",
      "Model score on test data (fold 4): 0.8959\n",
      "RMSE on test data (fold 4): 0.5698\n",
      "Average validation score: 0.8977 pm 0.0015\n",
      "Average RMSE: 0.5655, 0.0028\n"
     ]
    }
   ],
   "source": [
    "newmodel = model(\"XGBoost\")\n",
    "newmodel.cross_validate(X,y)"
   ]
  },
  {
   "cell_type": "code",
   "execution_count": null,
   "id": "c60377fd",
   "metadata": {},
   "outputs": [],
   "source": []
  },
  {
   "cell_type": "markdown",
   "id": "018e7fe3",
   "metadata": {},
   "source": []
  }
 ],
 "metadata": {
  "kernelspec": {
   "display_name": "Python 3 (ipykernel)",
   "language": "python",
   "name": "python3"
  },
  "language_info": {
   "codemirror_mode": {
    "name": "ipython",
    "version": 3
   },
   "file_extension": ".py",
   "mimetype": "text/x-python",
   "name": "python",
   "nbconvert_exporter": "python",
   "pygments_lexer": "ipython3",
   "version": "3.9.7"
  }
 },
 "nbformat": 4,
 "nbformat_minor": 5
}
