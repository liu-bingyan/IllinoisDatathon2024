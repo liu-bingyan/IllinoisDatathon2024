{
 "cells": [
  {
   "cell_type": "code",
   "execution_count": 40,
   "id": "b12e49b9",
   "metadata": {},
   "outputs": [
    {
     "name": "stdout",
     "output_type": "stream",
     "text": [
      "0    1\n",
      "1    2\n",
      "2    3\n",
      "3    4\n",
      "4    5\n",
      "dtype: int64\n"
     ]
    }
   ],
   "source": [
    "from mpl_toolkits.mplot3d import Axes3D\n",
    "from sklearn.preprocessing import StandardScaler\n",
    "from sklearn.linear_model import LinearRegression\n",
    "import matplotlib.pyplot as plt # plotting\n",
    "import numpy as np # linear algebra\n",
    "import os # accessing directory structure\n",
    "import pandas as pd # data processing, CSV file I/O (e.g. pd.read_csv)\n",
    "\n",
    "s = pd.Series([1, 2, 3, 4, 5])\n",
    "print(s)"
   ]
  },
  {
   "cell_type": "code",
   "execution_count": 14,
   "id": "de4fedf6",
   "metadata": {},
   "outputs": [],
   "source": [
    "data = pd.read_csv('data/features.csv')"
   ]
  },
  {
   "cell_type": "code",
   "execution_count": 15,
   "id": "0848f966",
   "metadata": {},
   "outputs": [],
   "source": [
    "data.to_csv('new_data.csv', index=False)"
   ]
  },
  {
   "cell_type": "code",
   "execution_count": 17,
   "id": "6557c8e7",
   "metadata": {},
   "outputs": [],
   "source": [
    "def plotPerColumnDistribution(df, nGraphShown, nGraphPerRow):\n",
    "    nunique = df.nunique()\n",
    "    df = df[[col for col in df if nunique[col] > 1 and nunique[col] < 50]] # For displaying purposes, pick columns that have between 1 and 50 unique values\n",
    "    nRow, nCol = df.shape\n",
    "    columnNames = list(df)\n",
    "    nGraphRow = (nCol + nGraphPerRow - 1) / nGraphPerRow\n",
    "    plt.figure(num = None, figsize = (6 * nGraphPerRow, 8 * nGraphRow), dpi = 80, facecolor = 'w', edgecolor = 'k')\n",
    "    for i in range(min(nCol, nGraphShown)):\n",
    "        plt.subplot(nGraphRow, nGraphPerRow, i + 1)\n",
    "        columnDf = df.iloc[:, i]\n",
    "        if (not np.issubdtype(type(columnDf.iloc[0]), np.number)):\n",
    "            valueCounts = columnDf.value_counts()\n",
    "            valueCounts.plot.bar()\n",
    "        else:\n",
    "            columnDf.hist()\n",
    "        plt.ylabel('counts')\n",
    "        plt.xticks(rotation = 90)\n",
    "        plt.title(f'{columnNames[i]} (column {i})')\n",
    "    plt.tight_layout(pad = 1.0, w_pad = 1.0, h_pad = 1.0)\n",
    "    plt.show()"
   ]
  },
  {
   "cell_type": "code",
   "execution_count": 18,
   "id": "a580a608",
   "metadata": {},
   "outputs": [
    {
     "name": "stderr",
     "output_type": "stream",
     "text": [
      "/var/folders/0j/85z3mpjd5z7gj2zkz2ty81vc0000gn/T/ipykernel_75401/1562888048.py:9: MatplotlibDeprecationWarning: Passing non-integers as three-element position specification is deprecated since 3.3 and will be removed two minor releases later.\n",
      "  plt.subplot(nGraphRow, nGraphPerRow, i + 1)\n"
     ]
    },
    {
     "data": {
      "image/png": "[encoded data removed]",
      "text/plain": [
       "<Figure size 2400x768 with 2 Axes>"
      ]
     },
     "metadata": {},
     "output_type": "display_data"
    }
   ],
   "source": [
    "plotPerColumnDistribution(data, 10, 5)"
   ]
  },
  {
   "cell_type": "code",
   "execution_count": 21,
   "id": "ada98cc8",
   "metadata": {},
   "outputs": [],
   "source": [
    "data2=pd.read_csv('data/stores.csv')\n",
    "data2.dataframeName = 'stores.csv'"
   ]
  },
  {
   "cell_type": "code",
   "execution_count": 35,
   "id": "aa9a63cf",
   "metadata": {},
   "outputs": [
    {
     "name": "stdout",
     "output_type": "stream",
     "text": [
      "Distribution of values in 'MarkDown1':\n",
      "NaN        4158\n",
      "150.46        2\n",
      "6510.79       2\n",
      "4855.31       2\n",
      "8.62          2\n",
      "           ... \n",
      "4012.81       1\n",
      "4599.86       1\n",
      "3679.59       1\n",
      "2569.12       1\n",
      "212.02        1\n",
      "Name: MarkDown1, Length: 4024, dtype: int64\n"
     ]
    }
   ],
   "source": [
    "na_counts = data.isna().sum()\n",
    "\n",
    "nan_rows = data[data.isna().any(axis=1)]\n",
    "\n",
    "sorted_nan = nan_rows.sort_values(by='Date')\n",
    "distribution = data['MarkDown1'].value_counts(dropna=False)\n",
    "\n",
    "print(\"Distribution of values in 'MarkDown1':\")\n",
    "print(distribution)"
   ]
  },
  {
   "cell_type": "code",
   "execution_count": 36,
   "id": "e5b50dd2",
   "metadata": {},
   "outputs": [
    {
     "name": "stdout",
     "output_type": "stream",
     "text": [
      "      Store        Date  Temperature  Fuel_Price  MarkDown1  MarkDown2  \\\n",
      "0         1  2010-02-05        42.31       2.572        NaN        NaN   \n",
      "1         1  2010-02-12        38.51       2.548        NaN        NaN   \n",
      "2         1  2010-02-19        39.93       2.514        NaN        NaN   \n",
      "3         1  2010-02-26        46.63       2.561        NaN        NaN   \n",
      "4         1  2010-03-05        46.50       2.625        NaN        NaN   \n",
      "...     ...         ...          ...         ...        ...        ...   \n",
      "8185     45  2013-06-28        76.05       3.639    4842.29     975.03   \n",
      "8186     45  2013-07-05        77.50       3.614    9090.48    2268.58   \n",
      "8187     45  2013-07-12        79.37       3.614    3789.94    1827.31   \n",
      "8188     45  2013-07-19        82.84       3.737    2961.49    1047.07   \n",
      "8189     45  2013-07-26        76.06       3.804     212.02     851.73   \n",
      "\n",
      "      MarkDown3  MarkDown4  MarkDown5         CPI  Unemployment  IsHoliday  \n",
      "0           NaN        NaN        NaN  211.096358         8.106      False  \n",
      "1           NaN        NaN        NaN  211.242170         8.106       True  \n",
      "2           NaN        NaN        NaN  211.289143         8.106      False  \n",
      "3           NaN        NaN        NaN  211.319643         8.106      False  \n",
      "4           NaN        NaN        NaN  211.350143         8.106      False  \n",
      "...         ...        ...        ...         ...           ...        ...  \n",
      "8185       3.00    2449.97    3169.69         NaN           NaN      False  \n",
      "8186     582.74    5797.47    1514.93         NaN           NaN      False  \n",
      "8187      85.72     744.84    2150.36         NaN           NaN      False  \n",
      "8188     204.19     363.00    1059.46         NaN           NaN      False  \n",
      "8189       2.06      10.88    1864.57         NaN           NaN      False  \n",
      "\n",
      "[6121 rows x 12 columns]\n"
     ]
    }
   ],
   "source": [
    "print(nan_rows)"
   ]
  },
  {
   "cell_type": "code",
   "execution_count": 37,
   "id": "41269a33",
   "metadata": {
    "scrolled": false
   },
   "outputs": [
    {
     "name": "stdout",
     "output_type": "stream",
     "text": [
      "      Store        Date  Temperature  Fuel_Price  MarkDown1  MarkDown2  \\\n",
      "0         1  2010-02-05        42.31       2.572        NaN        NaN   \n",
      "1         1  2010-02-12        38.51       2.548        NaN        NaN   \n",
      "2         1  2010-02-19        39.93       2.514        NaN        NaN   \n",
      "3         1  2010-02-26        46.63       2.561        NaN        NaN   \n",
      "4         1  2010-03-05        46.50       2.625        NaN        NaN   \n",
      "...     ...         ...          ...         ...        ...        ...   \n",
      "8185     45  2013-06-28        76.05       3.639    4842.29     975.03   \n",
      "8186     45  2013-07-05        77.50       3.614    9090.48    2268.58   \n",
      "8187     45  2013-07-12        79.37       3.614    3789.94    1827.31   \n",
      "8188     45  2013-07-19        82.84       3.737    2961.49    1047.07   \n",
      "8189     45  2013-07-26        76.06       3.804     212.02     851.73   \n",
      "\n",
      "      MarkDown3  MarkDown4  MarkDown5         CPI  Unemployment  IsHoliday  \n",
      "0           NaN        NaN        NaN  211.096358         8.106      False  \n",
      "1           NaN        NaN        NaN  211.242170         8.106       True  \n",
      "2           NaN        NaN        NaN  211.289143         8.106      False  \n",
      "3           NaN        NaN        NaN  211.319643         8.106      False  \n",
      "4           NaN        NaN        NaN  211.350143         8.106      False  \n",
      "...         ...        ...        ...         ...           ...        ...  \n",
      "8185       3.00    2449.97    3169.69         NaN           NaN      False  \n",
      "8186     582.74    5797.47    1514.93         NaN           NaN      False  \n",
      "8187      85.72     744.84    2150.36         NaN           NaN      False  \n",
      "8188     204.19     363.00    1059.46         NaN           NaN      False  \n",
      "8189       2.06      10.88    1864.57         NaN           NaN      False  \n",
      "\n",
      "[8190 rows x 12 columns]\n"
     ]
    }
   ],
   "source": [
    "print(data)"
   ]
  },
  {
   "cell_type": "code",
   "execution_count": 41,
   "id": "80d69d66",
   "metadata": {},
   "outputs": [],
   "source": [
    "df1 = pd.read_csv('data/features.csv')\n",
    "df2 = pd.read_csv('data/stores.csv')\n",
    "df3 = pd.read_csv('data/test.csv')\n",
    "df4 = pd.read_csv('data/train.csv')"
   ]
  },
  {
   "cell_type": "code",
   "execution_count": 45,
   "id": "328920d3",
   "metadata": {},
   "outputs": [
    {
     "name": "stdout",
     "output_type": "stream",
     "text": [
      "        Store  Dept        Date  Weekly_Sales  IsHoliday\n",
      "0           1     1  2010-02-05      24924.50      False\n",
      "1           1     1  2010-02-12      46039.49       True\n",
      "2           1     1  2010-02-19      41595.55      False\n",
      "3           1     1  2010-02-26      19403.54      False\n",
      "4           1     1  2010-03-05      21827.90      False\n",
      "...       ...   ...         ...           ...        ...\n",
      "421565     45    98  2012-09-28        508.37      False\n",
      "421566     45    98  2012-10-05        628.10      False\n",
      "421567     45    98  2012-10-12       1061.02      False\n",
      "421568     45    98  2012-10-19        760.01      False\n",
      "421569     45    98  2012-10-26       1076.80      False\n",
      "\n",
      "[421570 rows x 5 columns]\n"
     ]
    }
   ],
   "source": [
    "print(df4)"
   ]
  },
  {
   "cell_type": "code",
   "execution_count": 46,
   "id": "96355694",
   "metadata": {},
   "outputs": [
    {
     "ename": "NameError",
     "evalue": "name 'df_train' is not defined",
     "output_type": "error",
     "traceback": [
      "\u001b[0;31m---------------------------------------------------------------------------\u001b[0m",
      "\u001b[0;31mNameError\u001b[0m                                 Traceback (most recent call last)",
      "\u001b[0;32m/var/folders/0j/85z3mpjd5z7gj2zkz2ty81vc0000gn/T/ipykernel_75401/2141395000.py\u001b[0m in \u001b[0;36m<module>\u001b[0;34m\u001b[0m\n\u001b[0;32m----> 1\u001b[0;31m \u001b[0mX_train\u001b[0m \u001b[0;34m=\u001b[0m \u001b[0mdf_train\u001b[0m\u001b[0;34m[\u001b[0m\u001b[0;34m[\u001b[0m\u001b[0;34m'Store'\u001b[0m\u001b[0;34m,\u001b[0m \u001b[0;34m'Dept'\u001b[0m\u001b[0;34m,\u001b[0m \u001b[0;34m'Date'\u001b[0m\u001b[0;34m,\u001b[0m\u001b[0;34m'IsHoliday'\u001b[0m\u001b[0;34m]\u001b[0m\u001b[0;34m]\u001b[0m  \u001b[0;31m# Features\u001b[0m\u001b[0;34m\u001b[0m\u001b[0;34m\u001b[0m\u001b[0m\n\u001b[0m\u001b[1;32m      2\u001b[0m \u001b[0my_train\u001b[0m \u001b[0;34m=\u001b[0m \u001b[0mdf_train\u001b[0m\u001b[0;34m[\u001b[0m\u001b[0;34m'Weekly_Sales'\u001b[0m\u001b[0;34m]\u001b[0m                       \u001b[0;31m# Target\u001b[0m\u001b[0;34m\u001b[0m\u001b[0;34m\u001b[0m\u001b[0m\n",
      "\u001b[0;31mNameError\u001b[0m: name 'df_train' is not defined"
     ]
    }
   ],
   "source": [
    "X_train = df_train[['Store', 'Dept', 'Date','IsHoliday']]  # Features\n",
    "y_train = df_train['Weekly_Sales']                       # Target"
   ]
  },
  {
   "cell_type": "code",
   "execution_count": 47,
   "id": "4a432148",
   "metadata": {},
   "outputs": [
    {
     "ename": "NameError",
     "evalue": "name 'df_train' is not defined",
     "output_type": "error",
     "traceback": [
      "\u001b[0;31m---------------------------------------------------------------------------\u001b[0m",
      "\u001b[0;31mNameError\u001b[0m                                 Traceback (most recent call last)",
      "\u001b[0;32m/var/folders/0j/85z3mpjd5z7gj2zkz2ty81vc0000gn/T/ipykernel_75401/4287832285.py\u001b[0m in \u001b[0;36m<module>\u001b[0;34m\u001b[0m\n\u001b[0;32m----> 1\u001b[0;31m \u001b[0mdf_train\u001b[0m\u001b[0;34m(\u001b[0m\u001b[0mdf4\u001b[0m\u001b[0;34m)\u001b[0m\u001b[0;34m\u001b[0m\u001b[0;34m\u001b[0m\u001b[0m\n\u001b[0m",
      "\u001b[0;31mNameError\u001b[0m: name 'df_train' is not defined"
     ]
    }
   ],
   "source": [
    "df_train(df4)"
   ]
  },
  {
   "cell_type": "code",
   "execution_count": 48,
   "id": "59620862",
   "metadata": {},
   "outputs": [],
   "source": [
    "df_train = pd.read_csv('data/train.csv')"
   ]
  },
  {
   "cell_type": "code",
   "execution_count": 49,
   "id": "d5a9379a",
   "metadata": {},
   "outputs": [],
   "source": [
    "X_train = df_train[['Store', 'Dept', 'Date','IsHoliday']]  # Features\n",
    "y_train = df_train['Weekly_Sales']                       # Target"
   ]
  },
  {
   "cell_type": "code",
   "execution_count": 105,
   "id": "62d602cb",
   "metadata": {},
   "outputs": [
    {
     "name": "stdout",
     "output_type": "stream",
     "text": [
      "   Store  Dept        Date  Weekly_Sales  IsHoliday\n",
      "0      1     1  2010-02-05      24924.50      False\n",
      "1      1     1  2010-02-12      46039.49       True\n",
      "2      1     1  2010-02-19      41595.55      False\n",
      "3      1     1  2010-02-26      19403.54      False\n",
      "4      1     1  2010-03-05      21827.90      False\n",
      "5      1     1  2010-03-12      21043.39      False\n",
      "6      1     1  2010-03-19      22136.64      False\n",
      "7      1     1  2010-03-26      26229.21      False\n",
      "8      1     1  2010-04-02      57258.43      False\n",
      "9      1     1  2010-04-09      42960.91      False\n"
     ]
    },
    {
     "data": {
      "text/plain": [
       "<AxesSubplot:xlabel='Thanksgiving', ylabel='Weekly_Sales'>"
      ]
     },
     "execution_count": 105,
     "metadata": {},
     "output_type": "execute_result"
    },
    {
     "data": {
      "image/png": "[encoded data removed]",
      "text/plain": [
       "<Figure size 432x288 with 1 Axes>"
      ]
     },
     "metadata": {
      "needs_background": "light"
     },
     "output_type": "display_data"
    }
   ],
   "source": [
    "import pandas as pd\n",
    "from sklearn.linear_model import LinearRegression\n",
    "from sklearn.preprocessing import LabelEncoder\n",
    "from sklearn.preprocessing import MinMaxScaler\n",
    "import matplotlib.pyplot as plt  \n",
    "%matplotlib inline    \n",
    "import matplotlib as mpl\n",
    "import seaborn as sns\n",
    "\n",
    "\n",
    "df_train = pd.read_csv('data/train.csv')\n",
    "\n",
    "print(df_train.head(10))\n",
    "\n",
    "df_train.loc[(df_train['Date'] == '2010-11-26')|(df_train['Date'] == '2011-11-25'),'Thanksgiving'] = True\n",
    "df_train.loc[(df_train['Date'] != '2010-11-26')&(df_train['Date'] != '2011-11-25'),'Thanksgiving'] = False\n",
    "\n",
    "sns.barplot(x='Thanksgiving', y='Weekly_Sales', data=df_train) # Thanksgiving holiday vs not-thanksgiving\n",
    "\n"
   ]
  },
  {
   "cell_type": "code",
   "execution_count": 106,
   "id": "1c504f9b",
   "metadata": {},
   "outputs": [
    {
     "name": "stdout",
     "output_type": "stream",
     "text": [
      "        Store  Dept        Date  IsHoliday\n",
      "0           1     1  2012-11-02      False\n",
      "1           1     1  2012-11-09      False\n",
      "2           1     1  2012-11-16      False\n",
      "3           1     1  2012-11-23       True\n",
      "4           1     1  2012-11-30      False\n",
      "...       ...   ...         ...        ...\n",
      "115059     45    98  2013-06-28      False\n",
      "115060     45    98  2013-07-05      False\n",
      "115061     45    98  2013-07-12      False\n",
      "115062     45    98  2013-07-19      False\n",
      "115063     45    98  2013-07-26      False\n",
      "\n",
      "[115064 rows x 4 columns]\n",
      "        Store  Dept  IsHoliday\n",
      "0           1     1      False\n",
      "1           1     1      False\n",
      "2           1     1      False\n",
      "3           1     1       True\n",
      "4           1     1      False\n",
      "...       ...   ...        ...\n",
      "115059     45    98      False\n",
      "115060     45    98      False\n",
      "115061     45    98      False\n",
      "115062     45    98      False\n",
      "115063     45    98      False\n",
      "\n",
      "[115064 rows x 3 columns]\n",
      "[14408.40727711 14408.40727711 14408.40727711 ... 18316.59596894\n",
      " 18316.59596894 18316.59596894]\n"
     ]
    }
   ],
   "source": [
    "# Check data types after conversion\n",
    "X_train = df_train[['Store', 'Dept','IsHoliday']]  # Features\n",
    "y_train = df_train['Weekly_Sales']                       # Target\n",
    "\n",
    "# Step 3: Create and Fit the Model\n",
    "# Create a Linear Regression model\n",
    "model = LinearRegression()\n",
    "\n",
    "# Fit the model\n",
    "model.fit(X_train, y_train)\n",
    "df3 = pd.read_csv('data/test.csv')\n",
    "print(df3)\n",
    "df3 = df3.iloc[:, [0, 1, 3]]\n",
    "print(df3)\n",
    "\n",
    "predictions = model.predict(df3)\n",
    "print(predictions)"
   ]
  },
  {
   "cell_type": "code",
   "execution_count": null,
   "id": "38e59a3f",
   "metadata": {},
   "outputs": [],
   "source": []
  }
 ],
 "metadata": {
  "kernelspec": {
   "display_name": "Python 3 (ipykernel)",
   "language": "python",
   "name": "python3"
  },
  "language_info": {
   "codemirror_mode": {
    "name": "ipython",
    "version": 3
   },
   "file_extension": ".py",
   "mimetype": "text/x-python",
   "name": "python",
   "nbconvert_exporter": "python",
   "pygments_lexer": "ipython3",
   "version": "3.9.7"
  }
 },
 "nbformat": 4,
 "nbformat_minor": 5
}
